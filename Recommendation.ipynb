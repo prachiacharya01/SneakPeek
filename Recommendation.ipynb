{
  "cells": [
    {
      "cell_type": "markdown",
      "metadata": {
        "id": "view-in-github",
        "colab_type": "text"
      },
      "source": [
        "<a href=\"https://colab.research.google.com/github/prachiacharya01/SneakPeek/blob/main/Recommendation.ipynb\" target=\"_parent\"><img src=\"https://colab.research.google.com/assets/colab-badge.svg\" alt=\"Open In Colab\"/></a>"
      ]
    },
    {
      "cell_type": "code",
      "source": [
        "# from google.colab import drive\n",
        "# drive.mount('/content/drive')"
      ],
      "metadata": {
        "colab": {
          "base_uri": "https://localhost:8080/"
        },
        "id": "I7Wae_fK-D8h",
        "outputId": "ca3c3c19-d434-4ea0-b0ae-b0b282825e6f"
      },
      "execution_count": null,
      "outputs": [
        {
          "output_type": "stream",
          "name": "stdout",
          "text": [
            "Mounted at /content/drive\n"
          ]
        }
      ]
    },
    {
      "cell_type": "code",
      "source": [
        "!pip install implicit\n",
        "!pip install gmplot"
      ],
      "metadata": {
        "colab": {
          "base_uri": "https://localhost:8080/"
        },
        "id": "UKrp3gjK-KCS",
        "outputId": "f580bd3f-0333-4aac-e26e-785bfe1e3fe5"
      },
      "execution_count": null,
      "outputs": [
        {
          "output_type": "stream",
          "name": "stdout",
          "text": [
            "Looking in indexes: https://pypi.org/simple, https://us-python.pkg.dev/colab-wheels/public/simple/\n",
            "Collecting implicit\n",
            "  Downloading implicit-0.6.0-cp37-cp37m-manylinux2014_x86_64.whl (18.6 MB)\n",
            "\u001b[K     |████████████████████████████████| 18.6 MB 56.6 MB/s \n",
            "\u001b[?25hRequirement already satisfied: tqdm>=4.27 in /usr/local/lib/python3.7/dist-packages (from implicit) (4.64.0)\n",
            "Requirement already satisfied: numpy in /usr/local/lib/python3.7/dist-packages (from implicit) (1.21.6)\n",
            "Requirement already satisfied: scipy>=0.16 in /usr/local/lib/python3.7/dist-packages (from implicit) (1.7.3)\n",
            "Installing collected packages: implicit\n",
            "Successfully installed implicit-0.6.0\n",
            "Looking in indexes: https://pypi.org/simple, https://us-python.pkg.dev/colab-wheels/public/simple/\n",
            "Collecting gmplot\n",
            "  Downloading gmplot-1.4.1-py3-none-any.whl (164 kB)\n",
            "\u001b[K     |████████████████████████████████| 164 kB 7.0 MB/s \n",
            "\u001b[?25hRequirement already satisfied: requests in /usr/local/lib/python3.7/dist-packages (from gmplot) (2.23.0)\n",
            "Requirement already satisfied: certifi>=2017.4.17 in /usr/local/lib/python3.7/dist-packages (from requests->gmplot) (2022.6.15)\n",
            "Requirement already satisfied: urllib3!=1.25.0,!=1.25.1,<1.26,>=1.21.1 in /usr/local/lib/python3.7/dist-packages (from requests->gmplot) (1.24.3)\n",
            "Requirement already satisfied: chardet<4,>=3.0.2 in /usr/local/lib/python3.7/dist-packages (from requests->gmplot) (3.0.4)\n",
            "Requirement already satisfied: idna<3,>=2.5 in /usr/local/lib/python3.7/dist-packages (from requests->gmplot) (2.10)\n",
            "Installing collected packages: gmplot\n",
            "Successfully installed gmplot-1.4.1\n"
          ]
        }
      ]
    },
    {
      "cell_type": "markdown",
      "source": [
        "## Importing Dependencies and Datasets"
      ],
      "metadata": {
        "id": "lNMljBT5XOgC"
      }
    },
    {
      "cell_type": "code",
      "source": [
        "import pandas as pd\n",
        "import scipy.sparse as sparse\n",
        "import numpy as np\n",
        "import random\n",
        "import implicit\n",
        "from sklearn.preprocessing import MinMaxScaler\n",
        "from sklearn import metrics\n",
        "\n",
        "import gmplot "
      ],
      "metadata": {
        "id": "8VDclify-BJh",
        "colab": {
          "base_uri": "https://localhost:8080/"
        },
        "outputId": "4d613985-33c7-4330-9a47-92c21d5ee165"
      },
      "execution_count": null,
      "outputs": [
        {
          "output_type": "stream",
          "name": "stderr",
          "text": [
            "/usr/local/lib/python3.7/dist-packages/implicit/gpu/__init__.py:14: UserWarning: CUDA extension is built, but disabling GPU support because of 'Cuda Error: no CUDA-capable device is detected (/project/./implicit/gpu/utils.h:71)'\n",
            "  f\"CUDA extension is built, but disabling GPU support because of '{e}'\",\n"
          ]
        }
      ]
    },
    {
      "cell_type": "code",
      "source": [
        "venues_df = pd.read_csv('/content/drive/MyDrive/ALS_dataset/venues.csv')\n",
        "spot_df = pd.read_csv('/content/drive/MyDrive/ALS_dataset/spot_df')"
      ],
      "metadata": {
        "id": "_hWdDWkj97-J"
      },
      "execution_count": null,
      "outputs": []
    },
    {
      "cell_type": "code",
      "source": [
        "venues_df.drop(['Unnamed: 0'], axis=1, inplace=True)\n",
        "spot_df.drop(['Unnamed: 0'], axis=1, inplace=True)\n",
        "spot_df.isna().sum()\n",
        "venues_df.isna().sum()\n",
        "venues_df = venues_df.drop_duplicates()\n",
        "spot_df = spot_df.drop_duplicates()"
      ],
      "metadata": {
        "id": "b9k6NgeX_bLt"
      },
      "execution_count": null,
      "outputs": []
    },
    {
      "cell_type": "code",
      "source": [
        "spot_df['eventType'].value_counts()"
      ],
      "metadata": {
        "colab": {
          "base_uri": "https://localhost:8080/"
        },
        "id": "vx_DkrQnmbVD",
        "outputId": "467300f9-27ba-4736-aa95-123faea417f9"
      },
      "execution_count": null,
      "outputs": [
        {
          "output_type": "execute_result",
          "data": {
            "text/plain": [
              "LIKE               1610968\n",
              "BOOKMARK           1610908\n",
              "VIEW               1610774\n",
              "COMMENT CREATED    1610058\n",
              "Name: eventType, dtype: int64"
            ]
          },
          "metadata": {},
          "execution_count": 6
        }
      ]
    },
    {
      "cell_type": "markdown",
      "source": [
        "# Feature Engineering"
      ],
      "metadata": {
        "id": "dxeMEa3TX2In"
      }
    },
    {
      "cell_type": "markdown",
      "source": [
        "Merging above two datasets on the basis of spotid"
      ],
      "metadata": {
        "id": "PiCUvaLwXh-W"
      }
    },
    {
      "cell_type": "code",
      "source": [
        "merged_df = pd.merge(venues_df,spot_df, on='spotid',how='inner')"
      ],
      "metadata": {
        "id": "sB1rlqAEW-h9"
      },
      "execution_count": null,
      "outputs": []
    },
    {
      "cell_type": "code",
      "source": [
        "merged_df = merged_df.drop_duplicates()"
      ],
      "metadata": {
        "id": "5KAegvhv_6mU"
      },
      "execution_count": null,
      "outputs": []
    },
    {
      "cell_type": "code",
      "source": [
        "merged_df.drop(['geo-coordinates'], axis=1)\n",
        "merged_df['spotid'] = merged_df['spotid'].astype('category')\n",
        "merged_df['userid'] = merged_df['userid'].astype('category')"
      ],
      "metadata": {
        "id": "S1864yS1cihf"
      },
      "execution_count": null,
      "outputs": []
    },
    {
      "cell_type": "code",
      "source": [
        "merged_df['s_id'] = merged_df['spotid'].cat.codes\n",
        "merged_df['u_id'] = merged_df['userid'].cat.codes\n",
        "merged_df"
      ],
      "metadata": {
        "colab": {
          "base_uri": "https://localhost:8080/",
          "height": 424
        },
        "id": "2V6U_Hwa00Sh",
        "outputId": "b7be9b0a-a734-44b9-c270-fa9418a6bdf8"
      },
      "execution_count": null,
      "outputs": [
        {
          "output_type": "execute_result",
          "data": {
            "text/plain": [
              "         spotid                   spotname  \\\n",
              "0       1391604      Conference House Park   \n",
              "1       1391611  Almer G. Russell Pavilion   \n",
              "2       1391499               Biddle House   \n",
              "3        403372            Seabra's Armory   \n",
              "4        403372            Seabra's Armory   \n",
              "...         ...                        ...   \n",
              "114705   891282               Peking House   \n",
              "114706   891282               Peking House   \n",
              "114707   397723             Larchmont Club   \n",
              "114708  1224978                    Zitoune   \n",
              "114709  1272266                Stop & Shop   \n",
              "\n",
              "                            geo-coordinates  userid             timestamp  \\\n",
              "0       POINT(-74.2523431778 40.5017589436)    4929  2010-07-05T16:48:52Z   \n",
              "1       POINT(-74.2542636395 40.5022647413)    4929  2010-07-05T16:50:26Z   \n",
              "2       POINT(-74.2541456223 40.5054829933)    4929  2010-07-05T16:29:01Z   \n",
              "3       POINT(-74.2632088065 40.5039289517)   19026  2010-02-22T01:59:37Z   \n",
              "4       POINT(-74.2632088065 40.5039289517)   19346  2010-02-27T07:48:40Z   \n",
              "...                                     ...     ...                   ...   \n",
              "114705   POINT(-73.8546144962 40.898167491)  166694  2010-04-14T17:18:34Z   \n",
              "114706   POINT(-73.8546144962 40.898167491)  166694  2010-04-07T17:41:28Z   \n",
              "114707      POINT(-73.745129 40.9244924667)     378  2010-01-16T23:15:41Z   \n",
              "114708      POINT(-73.75237983 40.94017511)   18055  2010-08-28T19:29:19Z   \n",
              "114709       POINT(-73.7475444 40.93326389)   65807  2010-09-19T01:33:42Z   \n",
              "\n",
              "         latitude  longitude        eventType   s_id  u_id  \n",
              "0       40.501759 -74.252343         BOOKMARK  15105   815  \n",
              "1       40.502265 -74.254264  COMMENT CREATED  15106   815  \n",
              "2       40.505483 -74.254146             LIKE  15104   815  \n",
              "3       40.503929 -74.263209  COMMENT CREATED   5899  1812  \n",
              "4       40.503929 -74.263209             VIEW   5899  1836  \n",
              "...           ...        ...              ...    ...   ...  \n",
              "114705  40.898167 -73.854614  COMMENT CREATED  11389  6619  \n",
              "114706  40.898167 -73.854614         BOOKMARK  11389  6619  \n",
              "114707  40.924492 -73.745129  COMMENT CREATED   5822    89  \n",
              "114708  40.940175 -73.752380         BOOKMARK  14099  1773  \n",
              "114709  40.933264 -73.747544             VIEW  14410  4111  \n",
              "\n",
              "[114710 rows x 10 columns]"
            ],
            "text/html": [
              "\n",
              "  <div id=\"df-0e6a643c-7f18-4ab3-b593-b79ce3a62e46\">\n",
              "    <div class=\"colab-df-container\">\n",
              "      <div>\n",
              "<style scoped>\n",
              "    .dataframe tbody tr th:only-of-type {\n",
              "        vertical-align: middle;\n",
              "    }\n",
              "\n",
              "    .dataframe tbody tr th {\n",
              "        vertical-align: top;\n",
              "    }\n",
              "\n",
              "    .dataframe thead th {\n",
              "        text-align: right;\n",
              "    }\n",
              "</style>\n",
              "<table border=\"1\" class=\"dataframe\">\n",
              "  <thead>\n",
              "    <tr style=\"text-align: right;\">\n",
              "      <th></th>\n",
              "      <th>spotid</th>\n",
              "      <th>spotname</th>\n",
              "      <th>geo-coordinates</th>\n",
              "      <th>userid</th>\n",
              "      <th>timestamp</th>\n",
              "      <th>latitude</th>\n",
              "      <th>longitude</th>\n",
              "      <th>eventType</th>\n",
              "      <th>s_id</th>\n",
              "      <th>u_id</th>\n",
              "    </tr>\n",
              "  </thead>\n",
              "  <tbody>\n",
              "    <tr>\n",
              "      <th>0</th>\n",
              "      <td>1391604</td>\n",
              "      <td>Conference House Park</td>\n",
              "      <td>POINT(-74.2523431778 40.5017589436)</td>\n",
              "      <td>4929</td>\n",
              "      <td>2010-07-05T16:48:52Z</td>\n",
              "      <td>40.501759</td>\n",
              "      <td>-74.252343</td>\n",
              "      <td>BOOKMARK</td>\n",
              "      <td>15105</td>\n",
              "      <td>815</td>\n",
              "    </tr>\n",
              "    <tr>\n",
              "      <th>1</th>\n",
              "      <td>1391611</td>\n",
              "      <td>Almer G. Russell Pavilion</td>\n",
              "      <td>POINT(-74.2542636395 40.5022647413)</td>\n",
              "      <td>4929</td>\n",
              "      <td>2010-07-05T16:50:26Z</td>\n",
              "      <td>40.502265</td>\n",
              "      <td>-74.254264</td>\n",
              "      <td>COMMENT CREATED</td>\n",
              "      <td>15106</td>\n",
              "      <td>815</td>\n",
              "    </tr>\n",
              "    <tr>\n",
              "      <th>2</th>\n",
              "      <td>1391499</td>\n",
              "      <td>Biddle House</td>\n",
              "      <td>POINT(-74.2541456223 40.5054829933)</td>\n",
              "      <td>4929</td>\n",
              "      <td>2010-07-05T16:29:01Z</td>\n",
              "      <td>40.505483</td>\n",
              "      <td>-74.254146</td>\n",
              "      <td>LIKE</td>\n",
              "      <td>15104</td>\n",
              "      <td>815</td>\n",
              "    </tr>\n",
              "    <tr>\n",
              "      <th>3</th>\n",
              "      <td>403372</td>\n",
              "      <td>Seabra's Armory</td>\n",
              "      <td>POINT(-74.2632088065 40.5039289517)</td>\n",
              "      <td>19026</td>\n",
              "      <td>2010-02-22T01:59:37Z</td>\n",
              "      <td>40.503929</td>\n",
              "      <td>-74.263209</td>\n",
              "      <td>COMMENT CREATED</td>\n",
              "      <td>5899</td>\n",
              "      <td>1812</td>\n",
              "    </tr>\n",
              "    <tr>\n",
              "      <th>4</th>\n",
              "      <td>403372</td>\n",
              "      <td>Seabra's Armory</td>\n",
              "      <td>POINT(-74.2632088065 40.5039289517)</td>\n",
              "      <td>19346</td>\n",
              "      <td>2010-02-27T07:48:40Z</td>\n",
              "      <td>40.503929</td>\n",
              "      <td>-74.263209</td>\n",
              "      <td>VIEW</td>\n",
              "      <td>5899</td>\n",
              "      <td>1836</td>\n",
              "    </tr>\n",
              "    <tr>\n",
              "      <th>...</th>\n",
              "      <td>...</td>\n",
              "      <td>...</td>\n",
              "      <td>...</td>\n",
              "      <td>...</td>\n",
              "      <td>...</td>\n",
              "      <td>...</td>\n",
              "      <td>...</td>\n",
              "      <td>...</td>\n",
              "      <td>...</td>\n",
              "      <td>...</td>\n",
              "    </tr>\n",
              "    <tr>\n",
              "      <th>114705</th>\n",
              "      <td>891282</td>\n",
              "      <td>Peking House</td>\n",
              "      <td>POINT(-73.8546144962 40.898167491)</td>\n",
              "      <td>166694</td>\n",
              "      <td>2010-04-14T17:18:34Z</td>\n",
              "      <td>40.898167</td>\n",
              "      <td>-73.854614</td>\n",
              "      <td>COMMENT CREATED</td>\n",
              "      <td>11389</td>\n",
              "      <td>6619</td>\n",
              "    </tr>\n",
              "    <tr>\n",
              "      <th>114706</th>\n",
              "      <td>891282</td>\n",
              "      <td>Peking House</td>\n",
              "      <td>POINT(-73.8546144962 40.898167491)</td>\n",
              "      <td>166694</td>\n",
              "      <td>2010-04-07T17:41:28Z</td>\n",
              "      <td>40.898167</td>\n",
              "      <td>-73.854614</td>\n",
              "      <td>BOOKMARK</td>\n",
              "      <td>11389</td>\n",
              "      <td>6619</td>\n",
              "    </tr>\n",
              "    <tr>\n",
              "      <th>114707</th>\n",
              "      <td>397723</td>\n",
              "      <td>Larchmont Club</td>\n",
              "      <td>POINT(-73.745129 40.9244924667)</td>\n",
              "      <td>378</td>\n",
              "      <td>2010-01-16T23:15:41Z</td>\n",
              "      <td>40.924492</td>\n",
              "      <td>-73.745129</td>\n",
              "      <td>COMMENT CREATED</td>\n",
              "      <td>5822</td>\n",
              "      <td>89</td>\n",
              "    </tr>\n",
              "    <tr>\n",
              "      <th>114708</th>\n",
              "      <td>1224978</td>\n",
              "      <td>Zitoune</td>\n",
              "      <td>POINT(-73.75237983 40.94017511)</td>\n",
              "      <td>18055</td>\n",
              "      <td>2010-08-28T19:29:19Z</td>\n",
              "      <td>40.940175</td>\n",
              "      <td>-73.752380</td>\n",
              "      <td>BOOKMARK</td>\n",
              "      <td>14099</td>\n",
              "      <td>1773</td>\n",
              "    </tr>\n",
              "    <tr>\n",
              "      <th>114709</th>\n",
              "      <td>1272266</td>\n",
              "      <td>Stop &amp; Shop</td>\n",
              "      <td>POINT(-73.7475444 40.93326389)</td>\n",
              "      <td>65807</td>\n",
              "      <td>2010-09-19T01:33:42Z</td>\n",
              "      <td>40.933264</td>\n",
              "      <td>-73.747544</td>\n",
              "      <td>VIEW</td>\n",
              "      <td>14410</td>\n",
              "      <td>4111</td>\n",
              "    </tr>\n",
              "  </tbody>\n",
              "</table>\n",
              "<p>114710 rows × 10 columns</p>\n",
              "</div>\n",
              "      <button class=\"colab-df-convert\" onclick=\"convertToInteractive('df-0e6a643c-7f18-4ab3-b593-b79ce3a62e46')\"\n",
              "              title=\"Convert this dataframe to an interactive table.\"\n",
              "              style=\"display:none;\">\n",
              "        \n",
              "  <svg xmlns=\"http://www.w3.org/2000/svg\" height=\"24px\"viewBox=\"0 0 24 24\"\n",
              "       width=\"24px\">\n",
              "    <path d=\"M0 0h24v24H0V0z\" fill=\"none\"/>\n",
              "    <path d=\"M18.56 5.44l.94 2.06.94-2.06 2.06-.94-2.06-.94-.94-2.06-.94 2.06-2.06.94zm-11 1L8.5 8.5l.94-2.06 2.06-.94-2.06-.94L8.5 2.5l-.94 2.06-2.06.94zm10 10l.94 2.06.94-2.06 2.06-.94-2.06-.94-.94-2.06-.94 2.06-2.06.94z\"/><path d=\"M17.41 7.96l-1.37-1.37c-.4-.4-.92-.59-1.43-.59-.52 0-1.04.2-1.43.59L10.3 9.45l-7.72 7.72c-.78.78-.78 2.05 0 2.83L4 21.41c.39.39.9.59 1.41.59.51 0 1.02-.2 1.41-.59l7.78-7.78 2.81-2.81c.8-.78.8-2.07 0-2.86zM5.41 20L4 18.59l7.72-7.72 1.47 1.35L5.41 20z\"/>\n",
              "  </svg>\n",
              "      </button>\n",
              "      \n",
              "  <style>\n",
              "    .colab-df-container {\n",
              "      display:flex;\n",
              "      flex-wrap:wrap;\n",
              "      gap: 12px;\n",
              "    }\n",
              "\n",
              "    .colab-df-convert {\n",
              "      background-color: #E8F0FE;\n",
              "      border: none;\n",
              "      border-radius: 50%;\n",
              "      cursor: pointer;\n",
              "      display: none;\n",
              "      fill: #1967D2;\n",
              "      height: 32px;\n",
              "      padding: 0 0 0 0;\n",
              "      width: 32px;\n",
              "    }\n",
              "\n",
              "    .colab-df-convert:hover {\n",
              "      background-color: #E2EBFA;\n",
              "      box-shadow: 0px 1px 2px rgba(60, 64, 67, 0.3), 0px 1px 3px 1px rgba(60, 64, 67, 0.15);\n",
              "      fill: #174EA6;\n",
              "    }\n",
              "\n",
              "    [theme=dark] .colab-df-convert {\n",
              "      background-color: #3B4455;\n",
              "      fill: #D2E3FC;\n",
              "    }\n",
              "\n",
              "    [theme=dark] .colab-df-convert:hover {\n",
              "      background-color: #434B5C;\n",
              "      box-shadow: 0px 1px 3px 1px rgba(0, 0, 0, 0.15);\n",
              "      filter: drop-shadow(0px 1px 2px rgba(0, 0, 0, 0.3));\n",
              "      fill: #FFFFFF;\n",
              "    }\n",
              "  </style>\n",
              "\n",
              "      <script>\n",
              "        const buttonEl =\n",
              "          document.querySelector('#df-0e6a643c-7f18-4ab3-b593-b79ce3a62e46 button.colab-df-convert');\n",
              "        buttonEl.style.display =\n",
              "          google.colab.kernel.accessAllowed ? 'block' : 'none';\n",
              "\n",
              "        async function convertToInteractive(key) {\n",
              "          const element = document.querySelector('#df-0e6a643c-7f18-4ab3-b593-b79ce3a62e46');\n",
              "          const dataTable =\n",
              "            await google.colab.kernel.invokeFunction('convertToInteractive',\n",
              "                                                     [key], {});\n",
              "          if (!dataTable) return;\n",
              "\n",
              "          const docLinkHtml = 'Like what you see? Visit the ' +\n",
              "            '<a target=\"_blank\" href=https://colab.research.google.com/notebooks/data_table.ipynb>data table notebook</a>'\n",
              "            + ' to learn more about interactive tables.';\n",
              "          element.innerHTML = '';\n",
              "          dataTable['output_type'] = 'display_data';\n",
              "          await google.colab.output.renderOutput(dataTable, element);\n",
              "          const docLink = document.createElement('div');\n",
              "          docLink.innerHTML = docLinkHtml;\n",
              "          element.appendChild(docLink);\n",
              "        }\n",
              "      </script>\n",
              "    </div>\n",
              "  </div>\n",
              "  "
            ]
          },
          "metadata": {},
          "execution_count": 10
        }
      ]
    },
    {
      "cell_type": "markdown",
      "source": [
        "Strength evaluation on the basis of selected event"
      ],
      "metadata": {
        "id": "TPSj3MNKX-2P"
      }
    },
    {
      "cell_type": "code",
      "source": [
        "event_type_strength = {\n",
        "   'VIEW': 1.0,\n",
        "   'LIKE': 2.0, \n",
        "   'BOOKMARK': 3.0, \n",
        "   'COMMENT CREATED': 4.0,  \n",
        "}\n",
        "\n",
        "merged_df['eventStrength'] = merged_df['eventType'].apply(lambda x:event_type_strength[x])"
      ],
      "metadata": {
        "id": "4IFTzuuVduew"
      },
      "execution_count": null,
      "outputs": []
    },
    {
      "cell_type": "code",
      "source": [
        "merged_df"
      ],
      "metadata": {
        "id": "1gIfZktP8HZz"
      },
      "execution_count": null,
      "outputs": []
    },
    {
      "cell_type": "markdown",
      "source": [
        "# Matrix Generation"
      ],
      "metadata": {
        "id": "WQ9S4BtpYv6X"
      }
    },
    {
      "cell_type": "code",
      "source": [
        "# naming convention: sparse_row_column\n",
        "sparse_spot_person = sparse.csr_matrix((merged_df['eventStrength'].astype(float), (merged_df['s_id'], merged_df['u_id'])))\n",
        "sparse_person_spot = sparse.csr_matrix((merged_df['eventStrength'].astype(float), (merged_df['u_id'], merged_df['s_id'])))"
      ],
      "metadata": {
        "id": "DfJxICnkjuQI"
      },
      "execution_count": null,
      "outputs": []
    },
    {
      "cell_type": "markdown",
      "source": [
        "# Model"
      ],
      "metadata": {
        "id": "Hm1hg8foZKPg"
      }
    },
    {
      "cell_type": "code",
      "source": [
        "model = implicit.als.AlternatingLeastSquares(factors=20, regularization=0.1, iterations=50)"
      ],
      "metadata": {
        "colab": {
          "base_uri": "https://localhost:8080/"
        },
        "id": "Y6Sjt1sFnm1f",
        "outputId": "0fb2cd37-70bd-4b40-aef7-0dd9057623e1"
      },
      "execution_count": null,
      "outputs": [
        {
          "output_type": "stream",
          "name": "stderr",
          "text": [
            "/usr/local/lib/python3.7/dist-packages/implicit/utils.py:29: UserWarning: OpenBLAS detected. Its highly recommend to set the environment variable 'export OPENBLAS_NUM_THREADS=1' to disable its internal multithreading\n",
            "  \"OpenBLAS detected. Its highly recommend to set the environment variable \"\n"
          ]
        }
      ]
    },
    {
      "cell_type": "code",
      "source": [
        "alpha = 15\n",
        "data = (sparse_spot_person * alpha).astype('double')\n",
        "# Fit the model\n",
        "model.fit(data)"
      ],
      "metadata": {
        "colab": {
          "base_uri": "https://localhost:8080/",
          "height": 49,
          "referenced_widgets": [
            "8842464a74c84ec99e8f64049f0b805c",
            "8caa7387476c408f8348a0940a0395c7",
            "bb82d67cfe5040cca4e740cad9cd8fa0",
            "2e43de402d644476be39e0a5aca6fd25",
            "1833f67cd99f43909ebf36bd61d8a257",
            "884244dee1754300b06f119963e0a816",
            "e113d3e1b43245af96540a6e2d86e640",
            "09409d153f794642b1aad16e4fd83bad",
            "63f19011df7e4cfabcc6d2c3ecc0bd58",
            "15b048d2d3e04fd699e58e31271a5036",
            "178f513f06e24b23bce705e80f3de330"
          ]
        },
        "id": "mM1SjPsinpWN",
        "outputId": "526d5a44-4e1e-40f7-c73f-960d68a679af"
      },
      "execution_count": null,
      "outputs": [
        {
          "output_type": "display_data",
          "data": {
            "text/plain": [
              "  0%|          | 0/50 [00:00<?, ?it/s]"
            ],
            "application/vnd.jupyter.widget-view+json": {
              "version_major": 2,
              "version_minor": 0,
              "model_id": "8842464a74c84ec99e8f64049f0b805c"
            }
          },
          "metadata": {}
        }
      ]
    },
    {
      "cell_type": "markdown",
      "source": [
        "function of recommendation"
      ],
      "metadata": {
        "id": "LK6OTHWxb-um"
      }
    },
    {
      "cell_type": "code",
      "source": [
        "def recommend(person_id, sparse_person_content, person_vecs, content_vecs, num_contents=10):\n",
        "    person_interactions = sparse_person_content[person_id,:].toarray()\n",
        "    person_interactions = person_interactions.reshape(-1) + 1\n",
        "    person_interactions[person_interactions > 1] = 0\n",
        "# [0,0+1]\n",
        "    rec_vector = person_vecs[person_id,:].dot(content_vecs.T).toarray()\n",
        "    min_max = MinMaxScaler()\n",
        "    rec_vector_scaled = min_max.fit_transform(rec_vector.reshape(-1,1))[:,0]\n",
        "    person_interactions = person_interactions[:rec_vector_scaled.shape[0]]\n",
        "\n",
        "    # Content already interacted have their recommendation multiplied by zero\n",
        "    recommend_vector = person_interactions * rec_vector_scaled\n",
        "\n",
        "    # Sort the indices of the content into order of best recommendations\n",
        "    spot_idx = np.argsort(recommend_vector)[::-1][:num_contents]\n",
        "\n",
        "    spot_names = []\n",
        "    scores = []\n",
        "    latitude = []\n",
        "    longitude = []\n",
        "    for idx in spot_idx:\n",
        "      spot_names.append(merged_df['spotname'][merged_df['s_id']==idx].iloc[0])\n",
        "      latitude.append(merged_df['latitude'][merged_df['s_id']==idx].iloc[0])\n",
        "      longitude.append(merged_df['longitude'][merged_df['s_id']==idx].iloc[0])\n",
        "      scores.append(recommend_vector[idx])\n",
        "    \n",
        "    data = {\n",
        "        'Spotnames': spot_names, \n",
        "        'Score': scores,\n",
        "        'Latitude':latitude,\n",
        "        'Longitude':longitude\n",
        "        }\n",
        "    recommendations = pd.DataFrame(data)\n",
        "\n",
        "    return recommendations"
      ],
      "metadata": {
        "id": "p1PHHkV7nt5q"
      },
      "execution_count": null,
      "outputs": []
    },
    {
      "cell_type": "markdown",
      "source": [
        "recommenations based on user's previous history"
      ],
      "metadata": {
        "id": "uB3bgC0KcSTt"
      }
    },
    {
      "cell_type": "code",
      "source": [
        "person_vecs = sparse.csr_matrix(model.user_factors)\n",
        "content_vecs = sparse.csr_matrix(model.item_factors)\n",
        "\n",
        "person_id = 50\n",
        "# u_lat = 40.691247\n",
        "# u_long = -74.179516\n",
        "# merged_df = merged_df[(merged_df['latitude']> u_lat-1 ) & \n",
        "#                       (merged_df['latitude']< u_lat+1) &\n",
        "#                       (merged_df['longitude']>u_long -1) &\n",
        "#                       (merged_df['longitude']<u_long + 1)]\n",
        "\n",
        "recommendations = recommend(person_id, sparse_person_spot, person_vecs, content_vecs)\n",
        "print(recommendations)"
      ],
      "metadata": {
        "colab": {
          "base_uri": "https://localhost:8080/"
        },
        "id": "hVDXktWon8Qq",
        "outputId": "01355beb-6471-401b-9975-4d136017ad15"
      },
      "execution_count": null,
      "outputs": [
        {
          "output_type": "stream",
          "name": "stdout",
          "text": [
            "                   Spotnames     Score   Latitude  Longitude\n",
            "0          Terminal 8 at JFK  1.000000  40.648899 -73.792570\n",
            "1        Caputo's Fine Foods  0.982100  40.678125 -73.997818\n",
            "2                92Y Tribeca  0.972828  40.722917 -74.007393\n",
            "3                 Mrs. Kim's  0.958861  40.730838 -73.957344\n",
            "4            Pace University  0.949848  40.710461 -74.004207\n",
            "5            Babe Ruth Plaza  0.935799  40.828532 -73.927345\n",
            "6         NYC Fried Chicken   0.929608  40.756337 -73.992926\n",
            "7        MakerBot Industries  0.929308  40.683374 -73.982018\n",
            "8  Skull Crusher Mountain NJ  0.926289  40.732012 -74.070790\n",
            "9                      Giano  0.917503  40.726223 -73.984272\n"
          ]
        }
      ]
    },
    {
      "cell_type": "markdown",
      "source": [
        "user's previous history "
      ],
      "metadata": {
        "id": "xBmbuyOMcIwF"
      }
    },
    {
      "cell_type": "code",
      "source": [
        "# user_id == 50\n",
        "merged_df.loc[merged_df['u_id'] == 50].sort_values(by=['eventStrength'], ascending=False)[['spotname', 'u_id', 'eventStrength','latitude','longitude']].head(10)"
      ],
      "metadata": {
        "colab": {
          "base_uri": "https://localhost:8080/",
          "height": 175
        },
        "id": "5m05gKdbn-8F",
        "outputId": "9479b926-9850-4f8e-a109-b67722e3210e"
      },
      "execution_count": null,
      "outputs": [
        {
          "output_type": "execute_result",
          "data": {
            "text/plain": [
              "                               spotname  u_id  eventStrength   latitude  \\\n",
              "3638   EWR Newark Liberty International    50            2.0  40.691247   \n",
              "47273                    The Daily Show    50            2.0  40.766819   \n",
              "3639   EWR Newark Liberty International    50            1.0  40.691247   \n",
              "29841                         Starbucks    50            1.0  40.749671   \n",
              "\n",
              "       longitude  \n",
              "3638  -74.179516  \n",
              "47273 -73.993867  \n",
              "3639  -74.179516  \n",
              "29841 -73.994035  "
            ],
            "text/html": [
              "\n",
              "  <div id=\"df-09d4c50f-3d8b-4ffb-b2cf-d72ce016635d\">\n",
              "    <div class=\"colab-df-container\">\n",
              "      <div>\n",
              "<style scoped>\n",
              "    .dataframe tbody tr th:only-of-type {\n",
              "        vertical-align: middle;\n",
              "    }\n",
              "\n",
              "    .dataframe tbody tr th {\n",
              "        vertical-align: top;\n",
              "    }\n",
              "\n",
              "    .dataframe thead th {\n",
              "        text-align: right;\n",
              "    }\n",
              "</style>\n",
              "<table border=\"1\" class=\"dataframe\">\n",
              "  <thead>\n",
              "    <tr style=\"text-align: right;\">\n",
              "      <th></th>\n",
              "      <th>spotname</th>\n",
              "      <th>u_id</th>\n",
              "      <th>eventStrength</th>\n",
              "      <th>latitude</th>\n",
              "      <th>longitude</th>\n",
              "    </tr>\n",
              "  </thead>\n",
              "  <tbody>\n",
              "    <tr>\n",
              "      <th>3638</th>\n",
              "      <td>EWR Newark Liberty International</td>\n",
              "      <td>50</td>\n",
              "      <td>2.0</td>\n",
              "      <td>40.691247</td>\n",
              "      <td>-74.179516</td>\n",
              "    </tr>\n",
              "    <tr>\n",
              "      <th>47273</th>\n",
              "      <td>The Daily Show</td>\n",
              "      <td>50</td>\n",
              "      <td>2.0</td>\n",
              "      <td>40.766819</td>\n",
              "      <td>-73.993867</td>\n",
              "    </tr>\n",
              "    <tr>\n",
              "      <th>3639</th>\n",
              "      <td>EWR Newark Liberty International</td>\n",
              "      <td>50</td>\n",
              "      <td>1.0</td>\n",
              "      <td>40.691247</td>\n",
              "      <td>-74.179516</td>\n",
              "    </tr>\n",
              "    <tr>\n",
              "      <th>29841</th>\n",
              "      <td>Starbucks</td>\n",
              "      <td>50</td>\n",
              "      <td>1.0</td>\n",
              "      <td>40.749671</td>\n",
              "      <td>-73.994035</td>\n",
              "    </tr>\n",
              "  </tbody>\n",
              "</table>\n",
              "</div>\n",
              "      <button class=\"colab-df-convert\" onclick=\"convertToInteractive('df-09d4c50f-3d8b-4ffb-b2cf-d72ce016635d')\"\n",
              "              title=\"Convert this dataframe to an interactive table.\"\n",
              "              style=\"display:none;\">\n",
              "        \n",
              "  <svg xmlns=\"http://www.w3.org/2000/svg\" height=\"24px\"viewBox=\"0 0 24 24\"\n",
              "       width=\"24px\">\n",
              "    <path d=\"M0 0h24v24H0V0z\" fill=\"none\"/>\n",
              "    <path d=\"M18.56 5.44l.94 2.06.94-2.06 2.06-.94-2.06-.94-.94-2.06-.94 2.06-2.06.94zm-11 1L8.5 8.5l.94-2.06 2.06-.94-2.06-.94L8.5 2.5l-.94 2.06-2.06.94zm10 10l.94 2.06.94-2.06 2.06-.94-2.06-.94-.94-2.06-.94 2.06-2.06.94z\"/><path d=\"M17.41 7.96l-1.37-1.37c-.4-.4-.92-.59-1.43-.59-.52 0-1.04.2-1.43.59L10.3 9.45l-7.72 7.72c-.78.78-.78 2.05 0 2.83L4 21.41c.39.39.9.59 1.41.59.51 0 1.02-.2 1.41-.59l7.78-7.78 2.81-2.81c.8-.78.8-2.07 0-2.86zM5.41 20L4 18.59l7.72-7.72 1.47 1.35L5.41 20z\"/>\n",
              "  </svg>\n",
              "      </button>\n",
              "      \n",
              "  <style>\n",
              "    .colab-df-container {\n",
              "      display:flex;\n",
              "      flex-wrap:wrap;\n",
              "      gap: 12px;\n",
              "    }\n",
              "\n",
              "    .colab-df-convert {\n",
              "      background-color: #E8F0FE;\n",
              "      border: none;\n",
              "      border-radius: 50%;\n",
              "      cursor: pointer;\n",
              "      display: none;\n",
              "      fill: #1967D2;\n",
              "      height: 32px;\n",
              "      padding: 0 0 0 0;\n",
              "      width: 32px;\n",
              "    }\n",
              "\n",
              "    .colab-df-convert:hover {\n",
              "      background-color: #E2EBFA;\n",
              "      box-shadow: 0px 1px 2px rgba(60, 64, 67, 0.3), 0px 1px 3px 1px rgba(60, 64, 67, 0.15);\n",
              "      fill: #174EA6;\n",
              "    }\n",
              "\n",
              "    [theme=dark] .colab-df-convert {\n",
              "      background-color: #3B4455;\n",
              "      fill: #D2E3FC;\n",
              "    }\n",
              "\n",
              "    [theme=dark] .colab-df-convert:hover {\n",
              "      background-color: #434B5C;\n",
              "      box-shadow: 0px 1px 3px 1px rgba(0, 0, 0, 0.15);\n",
              "      filter: drop-shadow(0px 1px 2px rgba(0, 0, 0, 0.3));\n",
              "      fill: #FFFFFF;\n",
              "    }\n",
              "  </style>\n",
              "\n",
              "      <script>\n",
              "        const buttonEl =\n",
              "          document.querySelector('#df-09d4c50f-3d8b-4ffb-b2cf-d72ce016635d button.colab-df-convert');\n",
              "        buttonEl.style.display =\n",
              "          google.colab.kernel.accessAllowed ? 'block' : 'none';\n",
              "\n",
              "        async function convertToInteractive(key) {\n",
              "          const element = document.querySelector('#df-09d4c50f-3d8b-4ffb-b2cf-d72ce016635d');\n",
              "          const dataTable =\n",
              "            await google.colab.kernel.invokeFunction('convertToInteractive',\n",
              "                                                     [key], {});\n",
              "          if (!dataTable) return;\n",
              "\n",
              "          const docLinkHtml = 'Like what you see? Visit the ' +\n",
              "            '<a target=\"_blank\" href=https://colab.research.google.com/notebooks/data_table.ipynb>data table notebook</a>'\n",
              "            + ' to learn more about interactive tables.';\n",
              "          element.innerHTML = '';\n",
              "          dataTable['output_type'] = 'display_data';\n",
              "          await google.colab.output.renderOutput(dataTable, element);\n",
              "          const docLink = document.createElement('div');\n",
              "          docLink.innerHTML = docLinkHtml;\n",
              "          element.appendChild(docLink);\n",
              "        }\n",
              "      </script>\n",
              "    </div>\n",
              "  </div>\n",
              "  "
            ]
          },
          "metadata": {},
          "execution_count": 19
        }
      ]
    },
    {
      "cell_type": "markdown",
      "source": [
        "# Ploting points on map"
      ],
      "metadata": {
        "id": "3fZP754Qvfb_"
      }
    },
    {
      "cell_type": "code",
      "source": [
        "!pip install chart-studio"
      ],
      "metadata": {
        "id": "c_MyY1Dun8bc",
        "colab": {
          "base_uri": "https://localhost:8080/"
        },
        "outputId": "41e6efd2-6c13-48d3-f47c-cfa7a3f79d9c"
      },
      "execution_count": null,
      "outputs": [
        {
          "output_type": "stream",
          "name": "stdout",
          "text": [
            "Looking in indexes: https://pypi.org/simple, https://us-python.pkg.dev/colab-wheels/public/simple/\n",
            "Collecting chart-studio\n",
            "  Downloading chart_studio-1.1.0-py3-none-any.whl (64 kB)\n",
            "\u001b[K     |████████████████████████████████| 64 kB 2.3 MB/s \n",
            "\u001b[?25hCollecting retrying>=1.3.3\n",
            "  Downloading retrying-1.3.3.tar.gz (10 kB)\n",
            "Requirement already satisfied: six in /usr/local/lib/python3.7/dist-packages (from chart-studio) (1.15.0)\n",
            "Requirement already satisfied: requests in /usr/local/lib/python3.7/dist-packages (from chart-studio) (2.23.0)\n",
            "Requirement already satisfied: plotly in /usr/local/lib/python3.7/dist-packages (from chart-studio) (5.5.0)\n",
            "Requirement already satisfied: tenacity>=6.2.0 in /usr/local/lib/python3.7/dist-packages (from plotly->chart-studio) (8.0.1)\n",
            "Requirement already satisfied: urllib3!=1.25.0,!=1.25.1,<1.26,>=1.21.1 in /usr/local/lib/python3.7/dist-packages (from requests->chart-studio) (1.24.3)\n",
            "Requirement already satisfied: idna<3,>=2.5 in /usr/local/lib/python3.7/dist-packages (from requests->chart-studio) (2.10)\n",
            "Requirement already satisfied: certifi>=2017.4.17 in /usr/local/lib/python3.7/dist-packages (from requests->chart-studio) (2022.6.15)\n",
            "Requirement already satisfied: chardet<4,>=3.0.2 in /usr/local/lib/python3.7/dist-packages (from requests->chart-studio) (3.0.4)\n",
            "Building wheels for collected packages: retrying\n",
            "  Building wheel for retrying (setup.py) ... \u001b[?25l\u001b[?25hdone\n",
            "  Created wheel for retrying: filename=retrying-1.3.3-py3-none-any.whl size=11447 sha256=51850d9f7d396a1c4eff08581c86f871f3910195323b332de887eab21e4d141f\n",
            "  Stored in directory: /root/.cache/pip/wheels/f9/8d/8d/f6af3f7f9eea3553bc2fe6d53e4b287dad18b06a861ac56ddf\n",
            "Successfully built retrying\n",
            "Installing collected packages: retrying, chart-studio\n",
            "Successfully installed chart-studio-1.1.0 retrying-1.3.3\n"
          ]
        }
      ]
    },
    {
      "cell_type": "code",
      "source": [
        "from chart_studio import plotly as py\n",
        "import chart_studio\n",
        "import plotly.figure_factory as ff\n",
        "import plotly.graph_objs as go\n",
        "\n",
        "chart_studio.tools.set_credentials_file(\n",
        "    username='prachi2302',\n",
        "    api_key='qXaUZOLe1LekH11C4gBu'\n",
        ")\n",
        "\n",
        "mapbox_access_token = 'pk.eyJ1IjoiYXNjaHJvY2siLCJhIjoiY2p2NnRoeHc2MDkxbTQ0bnR6aTVwZDNsaCJ9.MA76hkxD3rOGgnVCDBVC9w'\n",
        "\n",
        "df = recommendations\n",
        "\n",
        "site_lat = df.Latitude\n",
        "site_lon = df.Longitude\n",
        "locations_name = df.Spotnames\n",
        "\t\n",
        "# Generate the data for the map \n",
        "\n",
        "data = [\n",
        "    go.Scattermapbox(\n",
        "        lat=site_lat,\n",
        "        lon=site_lon,\n",
        "        mode='markers',\n",
        "        marker=dict(\n",
        "            size=3,\n",
        "            color='rgb(255, 0, 0)',\n",
        "            opacity=1\n",
        "        ),\n",
        "        text=locations_name,\n",
        "        hoverinfo='text'\n",
        "    ),\n",
        "    go.Scattermapbox(\n",
        "        lat=site_lat,\n",
        "        lon=site_lon,\n",
        "        mode='markers',\n",
        "        marker=dict(\n",
        "            size=8,\n",
        "            color='rgb(242, 177, 172)',\n",
        "            opacity=0.8\n",
        "        ),\n",
        "        hoverinfo='none'\n",
        "    )]\n",
        "\n",
        "\n",
        "# Generate a layout around Los Angeles, zoomed in so we can see the data points \n",
        "\n",
        "layout = go.Layout(\n",
        "    title='Recommeded Places',\n",
        "    autosize=True,\n",
        "    hovermode='closest',\n",
        "    showlegend=False,\n",
        "    mapbox=dict(\n",
        "        accesstoken=mapbox_access_token,\n",
        "        bearing=0,\n",
        "        center=dict(\n",
        "            lat=40.691247,\n",
        "            lon=-74.179516\n",
        "        ),\n",
        "        pitch=0,\n",
        "        zoom=10,\n",
        "        style='dark'\n",
        "    ),\n",
        ")\n",
        "\t\n",
        "# Generate the figure using the iplot function \n",
        "  \n",
        "fig = dict(data=data, layout=layout)\n",
        "py.iplot(fig, filename='Recommendation')"
      ],
      "metadata": {
        "colab": {
          "base_uri": "https://localhost:8080/",
          "height": 547
        },
        "id": "fdN5C_GY8X1q",
        "outputId": "603e3427-d6be-4a95-e9f3-49e485f642fc"
      },
      "execution_count": null,
      "outputs": [
        {
          "output_type": "execute_result",
          "data": {
            "text/plain": [
              "<IPython.lib.display.IFrame at 0x7f022ca2c290>"
            ],
            "text/html": [
              "\n",
              "        <iframe\n",
              "            width=\"100%\"\n",
              "            height=\"525px\"\n",
              "            src=\"https://plotly.com/~prachi2302/8.embed\"\n",
              "            frameborder=\"0\"\n",
              "            allowfullscreen\n",
              "        ></iframe>\n",
              "        "
            ]
          },
          "metadata": {},
          "execution_count": 30
        }
      ]
    },
    {
      "cell_type": "code",
      "source": [
        ""
      ],
      "metadata": {
        "id": "Zg77MVnQ8bed"
      },
      "execution_count": null,
      "outputs": []
    }
  ],
  "metadata": {
    "kernelspec": {
      "display_name": "Python 3",
      "language": "python",
      "name": "python3"
    },
    "language_info": {
      "codemirror_mode": {
        "name": "ipython",
        "version": 3
      },
      "file_extension": ".py",
      "mimetype": "text/x-python",
      "name": "python",
      "nbconvert_exporter": "python",
      "pygments_lexer": "ipython3",
      "version": "3.6.7"
    },
    "colab": {
      "name": "Recommendation.ipynb",
      "provenance": [],
      "collapsed_sections": [],
      "include_colab_link": true
    },
    "gpuClass": "standard",
    "widgets": {
      "application/vnd.jupyter.widget-state+json": {
        "8842464a74c84ec99e8f64049f0b805c": {
          "model_module": "@jupyter-widgets/controls",
          "model_name": "HBoxModel",
          "model_module_version": "1.5.0",
          "state": {
            "_dom_classes": [],
            "_model_module": "@jupyter-widgets/controls",
            "_model_module_version": "1.5.0",
            "_model_name": "HBoxModel",
            "_view_count": null,
            "_view_module": "@jupyter-widgets/controls",
            "_view_module_version": "1.5.0",
            "_view_name": "HBoxView",
            "box_style": "",
            "children": [
              "IPY_MODEL_8caa7387476c408f8348a0940a0395c7",
              "IPY_MODEL_bb82d67cfe5040cca4e740cad9cd8fa0",
              "IPY_MODEL_2e43de402d644476be39e0a5aca6fd25"
            ],
            "layout": "IPY_MODEL_1833f67cd99f43909ebf36bd61d8a257"
          }
        },
        "8caa7387476c408f8348a0940a0395c7": {
          "model_module": "@jupyter-widgets/controls",
          "model_name": "HTMLModel",
          "model_module_version": "1.5.0",
          "state": {
            "_dom_classes": [],
            "_model_module": "@jupyter-widgets/controls",
            "_model_module_version": "1.5.0",
            "_model_name": "HTMLModel",
            "_view_count": null,
            "_view_module": "@jupyter-widgets/controls",
            "_view_module_version": "1.5.0",
            "_view_name": "HTMLView",
            "description": "",
            "description_tooltip": null,
            "layout": "IPY_MODEL_884244dee1754300b06f119963e0a816",
            "placeholder": "​",
            "style": "IPY_MODEL_e113d3e1b43245af96540a6e2d86e640",
            "value": "100%"
          }
        },
        "bb82d67cfe5040cca4e740cad9cd8fa0": {
          "model_module": "@jupyter-widgets/controls",
          "model_name": "FloatProgressModel",
          "model_module_version": "1.5.0",
          "state": {
            "_dom_classes": [],
            "_model_module": "@jupyter-widgets/controls",
            "_model_module_version": "1.5.0",
            "_model_name": "FloatProgressModel",
            "_view_count": null,
            "_view_module": "@jupyter-widgets/controls",
            "_view_module_version": "1.5.0",
            "_view_name": "ProgressView",
            "bar_style": "success",
            "description": "",
            "description_tooltip": null,
            "layout": "IPY_MODEL_09409d153f794642b1aad16e4fd83bad",
            "max": 50,
            "min": 0,
            "orientation": "horizontal",
            "style": "IPY_MODEL_63f19011df7e4cfabcc6d2c3ecc0bd58",
            "value": 50
          }
        },
        "2e43de402d644476be39e0a5aca6fd25": {
          "model_module": "@jupyter-widgets/controls",
          "model_name": "HTMLModel",
          "model_module_version": "1.5.0",
          "state": {
            "_dom_classes": [],
            "_model_module": "@jupyter-widgets/controls",
            "_model_module_version": "1.5.0",
            "_model_name": "HTMLModel",
            "_view_count": null,
            "_view_module": "@jupyter-widgets/controls",
            "_view_module_version": "1.5.0",
            "_view_name": "HTMLView",
            "description": "",
            "description_tooltip": null,
            "layout": "IPY_MODEL_15b048d2d3e04fd699e58e31271a5036",
            "placeholder": "​",
            "style": "IPY_MODEL_178f513f06e24b23bce705e80f3de330",
            "value": " 50/50 [00:42&lt;00:00,  1.08it/s]"
          }
        },
        "1833f67cd99f43909ebf36bd61d8a257": {
          "model_module": "@jupyter-widgets/base",
          "model_name": "LayoutModel",
          "model_module_version": "1.2.0",
          "state": {
            "_model_module": "@jupyter-widgets/base",
            "_model_module_version": "1.2.0",
            "_model_name": "LayoutModel",
            "_view_count": null,
            "_view_module": "@jupyter-widgets/base",
            "_view_module_version": "1.2.0",
            "_view_name": "LayoutView",
            "align_content": null,
            "align_items": null,
            "align_self": null,
            "border": null,
            "bottom": null,
            "display": null,
            "flex": null,
            "flex_flow": null,
            "grid_area": null,
            "grid_auto_columns": null,
            "grid_auto_flow": null,
            "grid_auto_rows": null,
            "grid_column": null,
            "grid_gap": null,
            "grid_row": null,
            "grid_template_areas": null,
            "grid_template_columns": null,
            "grid_template_rows": null,
            "height": null,
            "justify_content": null,
            "justify_items": null,
            "left": null,
            "margin": null,
            "max_height": null,
            "max_width": null,
            "min_height": null,
            "min_width": null,
            "object_fit": null,
            "object_position": null,
            "order": null,
            "overflow": null,
            "overflow_x": null,
            "overflow_y": null,
            "padding": null,
            "right": null,
            "top": null,
            "visibility": null,
            "width": null
          }
        },
        "884244dee1754300b06f119963e0a816": {
          "model_module": "@jupyter-widgets/base",
          "model_name": "LayoutModel",
          "model_module_version": "1.2.0",
          "state": {
            "_model_module": "@jupyter-widgets/base",
            "_model_module_version": "1.2.0",
            "_model_name": "LayoutModel",
            "_view_count": null,
            "_view_module": "@jupyter-widgets/base",
            "_view_module_version": "1.2.0",
            "_view_name": "LayoutView",
            "align_content": null,
            "align_items": null,
            "align_self": null,
            "border": null,
            "bottom": null,
            "display": null,
            "flex": null,
            "flex_flow": null,
            "grid_area": null,
            "grid_auto_columns": null,
            "grid_auto_flow": null,
            "grid_auto_rows": null,
            "grid_column": null,
            "grid_gap": null,
            "grid_row": null,
            "grid_template_areas": null,
            "grid_template_columns": null,
            "grid_template_rows": null,
            "height": null,
            "justify_content": null,
            "justify_items": null,
            "left": null,
            "margin": null,
            "max_height": null,
            "max_width": null,
            "min_height": null,
            "min_width": null,
            "object_fit": null,
            "object_position": null,
            "order": null,
            "overflow": null,
            "overflow_x": null,
            "overflow_y": null,
            "padding": null,
            "right": null,
            "top": null,
            "visibility": null,
            "width": null
          }
        },
        "e113d3e1b43245af96540a6e2d86e640": {
          "model_module": "@jupyter-widgets/controls",
          "model_name": "DescriptionStyleModel",
          "model_module_version": "1.5.0",
          "state": {
            "_model_module": "@jupyter-widgets/controls",
            "_model_module_version": "1.5.0",
            "_model_name": "DescriptionStyleModel",
            "_view_count": null,
            "_view_module": "@jupyter-widgets/base",
            "_view_module_version": "1.2.0",
            "_view_name": "StyleView",
            "description_width": ""
          }
        },
        "09409d153f794642b1aad16e4fd83bad": {
          "model_module": "@jupyter-widgets/base",
          "model_name": "LayoutModel",
          "model_module_version": "1.2.0",
          "state": {
            "_model_module": "@jupyter-widgets/base",
            "_model_module_version": "1.2.0",
            "_model_name": "LayoutModel",
            "_view_count": null,
            "_view_module": "@jupyter-widgets/base",
            "_view_module_version": "1.2.0",
            "_view_name": "LayoutView",
            "align_content": null,
            "align_items": null,
            "align_self": null,
            "border": null,
            "bottom": null,
            "display": null,
            "flex": null,
            "flex_flow": null,
            "grid_area": null,
            "grid_auto_columns": null,
            "grid_auto_flow": null,
            "grid_auto_rows": null,
            "grid_column": null,
            "grid_gap": null,
            "grid_row": null,
            "grid_template_areas": null,
            "grid_template_columns": null,
            "grid_template_rows": null,
            "height": null,
            "justify_content": null,
            "justify_items": null,
            "left": null,
            "margin": null,
            "max_height": null,
            "max_width": null,
            "min_height": null,
            "min_width": null,
            "object_fit": null,
            "object_position": null,
            "order": null,
            "overflow": null,
            "overflow_x": null,
            "overflow_y": null,
            "padding": null,
            "right": null,
            "top": null,
            "visibility": null,
            "width": null
          }
        },
        "63f19011df7e4cfabcc6d2c3ecc0bd58": {
          "model_module": "@jupyter-widgets/controls",
          "model_name": "ProgressStyleModel",
          "model_module_version": "1.5.0",
          "state": {
            "_model_module": "@jupyter-widgets/controls",
            "_model_module_version": "1.5.0",
            "_model_name": "ProgressStyleModel",
            "_view_count": null,
            "_view_module": "@jupyter-widgets/base",
            "_view_module_version": "1.2.0",
            "_view_name": "StyleView",
            "bar_color": null,
            "description_width": ""
          }
        },
        "15b048d2d3e04fd699e58e31271a5036": {
          "model_module": "@jupyter-widgets/base",
          "model_name": "LayoutModel",
          "model_module_version": "1.2.0",
          "state": {
            "_model_module": "@jupyter-widgets/base",
            "_model_module_version": "1.2.0",
            "_model_name": "LayoutModel",
            "_view_count": null,
            "_view_module": "@jupyter-widgets/base",
            "_view_module_version": "1.2.0",
            "_view_name": "LayoutView",
            "align_content": null,
            "align_items": null,
            "align_self": null,
            "border": null,
            "bottom": null,
            "display": null,
            "flex": null,
            "flex_flow": null,
            "grid_area": null,
            "grid_auto_columns": null,
            "grid_auto_flow": null,
            "grid_auto_rows": null,
            "grid_column": null,
            "grid_gap": null,
            "grid_row": null,
            "grid_template_areas": null,
            "grid_template_columns": null,
            "grid_template_rows": null,
            "height": null,
            "justify_content": null,
            "justify_items": null,
            "left": null,
            "margin": null,
            "max_height": null,
            "max_width": null,
            "min_height": null,
            "min_width": null,
            "object_fit": null,
            "object_position": null,
            "order": null,
            "overflow": null,
            "overflow_x": null,
            "overflow_y": null,
            "padding": null,
            "right": null,
            "top": null,
            "visibility": null,
            "width": null
          }
        },
        "178f513f06e24b23bce705e80f3de330": {
          "model_module": "@jupyter-widgets/controls",
          "model_name": "DescriptionStyleModel",
          "model_module_version": "1.5.0",
          "state": {
            "_model_module": "@jupyter-widgets/controls",
            "_model_module_version": "1.5.0",
            "_model_name": "DescriptionStyleModel",
            "_view_count": null,
            "_view_module": "@jupyter-widgets/base",
            "_view_module_version": "1.2.0",
            "_view_name": "StyleView",
            "description_width": ""
          }
        }
      }
    }
  },
  "nbformat": 4,
  "nbformat_minor": 0
}